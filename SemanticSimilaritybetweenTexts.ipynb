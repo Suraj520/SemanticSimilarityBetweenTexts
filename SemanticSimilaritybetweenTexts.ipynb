{
  "nbformat": 4,
  "nbformat_minor": 0,
  "metadata": {
    "colab": {
      "name": "SemanticSimilaritybetweenTexts",
      "version": "0.3.2",
      "views": {},
      "default_view": {},
      "provenance": [],
      "collapsed_sections": []
    },
    "kernelspec": {
      "name": "python2",
      "display_name": "Python 2"
    },
    "accelerator": "GPU"
  },
  "cells": [
    {
      "metadata": {
        "id": "L7uZz6-O_iH6",
        "colab_type": "code",
        "colab": {
          "autoexec": {
            "startup": false,
            "wait_interval": 0
          }
        }
      },
      "cell_type": "code",
      "source": [
        "#Google drive authentication Code\n",
        "!pip install -U -q PyDrive\n",
        "!pip install gensim\n",
        "import numpy as np\n",
        "from pydrive.auth import GoogleAuth\n",
        "from pydrive.drive import GoogleDrive\n",
        "from google.colab import auth\n",
        "from oauth2client.client import GoogleCredentials\n",
        "\n",
        "# 1. Authenticate and create the PyDrive client.\n",
        "auth.authenticate_user()\n",
        "gauth = GoogleAuth()\n",
        "gauth.credentials = GoogleCredentials.get_application_default()\n",
        "drive = GoogleDrive(gauth)\n",
        "\n",
        "# 2. Load a file by ID and create local file.\n",
        "#(**********************Steps to Get File ID******************************)\n",
        "#Upload the dataset on google drive and then go and click on the dataset to scroll to the option which says get shareable link\n",
        "\n",
        "#The link will be copied to the clipboard paste it to the notepad and then\n",
        "#like : https://drive.google.com/open?id=1DHkNolpOVuE76ZL2bTHY_LDwIC126XFn\n",
        "#in this link copy the the string after id = and paste it in the code down here to get your data exported in the google collaboratory environment\n",
        "\n",
        "##****************************************************************************************************************************\n",
        "#Loading Book 1 of Game of thrones\n",
        "downloaded = drive.CreateFile({'id':'1DHkNolpOVuE76ZL2bTHY_LDwIC126XFn'}) # replace fileid with Id of file you want to access represented by long string in single quotes\n",
        "downloaded.GetContentFile('got1.txt') # now you can use export.csv share\n",
        "# Loading book2 of Game of thrones\n",
        "downloaded1 = drive.CreateFile({'id':'1McCXKaSp4OB5qZs-wowk3jjEZP7E7GWi'}) # replace fileid with Id of file you want to access represented by long string in single quotes\n",
        "downloaded1.GetContentFile('got2.txt') # now you can use export.csv share\n",
        "#loading book3 of Game of thrones\n",
        "downloaded2 = drive.CreateFile({'id':'16XBPdsLk1-1RKLdeJHsnoTuvS5tWDo3p'}) # replace fileid with Id of file you want to access represented by long string in single quotes\n",
        "downloaded2.GetContentFile('got3.txt') # now you can use export.csv share\n",
        "# Loading book4 of Game of thrones\n",
        "downloaded3 = drive.CreateFile({'id':'1sRX8_vKTRGt7tUFYP7iqIF6VVazLYXiU'}) # replace fileid with Id of file you want to access represented by long string in single quotes\n",
        "downloaded3.GetContentFile('got4.txt') # now you can use export.csv share\n",
        "#loading book5 of Game of thrones\n",
        "downloaded4 = drive.CreateFile({'id':'1ekOnx6aSEWvHs9B9BXYBf_G5-y0LM58O'}) # replace fileid with Id of file you want to access represented by long string in single quotes\n",
        "downloaded4.GetContentFile('got5.txt') # now you can use export.csv share\n"
      ],
      "execution_count": 0,
      "outputs": []
    },
    {
      "metadata": {
        "id": "BWY2cFsPAc2L",
        "colab_type": "code",
        "colab": {
          "autoexec": {
            "startup": false,
            "wait_interval": 0
          },
          "output_extras": [
            {
              "item_id": 13
            }
          ],
          "base_uri": "https://localhost:8080/",
          "height": 712
        },
        "outputId": "a2c97f9d-3269-4eb7-ff79-be400d5bf2e3",
        "executionInfo": {
          "status": "ok",
          "timestamp": 1517053455958,
          "user_tz": -330,
          "elapsed": 10829,
          "user": {
            "displayName": "Suraj",
            "photoUrl": "//lh5.googleusercontent.com/-n0XOqm4pzzY/AAAAAAAAAAI/AAAAAAAAGMk/QR2xoSjmXbk/s50-c-k-no/photo.jpg",
            "userId": "108764986987181223074"
          }
        }
      },
      "cell_type": "code",
      "source": [
        "#Aim is to create word vectors from Game of the thrones dataset and analyse semantic similarity\n",
        "\n",
        "#importing future as it is the bridge between the syntax of python3 and python2\n",
        "from __future__ import absolute_import, division, print_function\n",
        "\n",
        "#using library\" codecs\" to encode the word\n",
        "import codecs\n",
        "#importing regex to file searching using regular expressions\n",
        "#For concurrency importing multiprocessing to enable multithreading so that each thread performs some sort of process\n",
        "import multiprocessing\n",
        "import os\n",
        "# for printing human readable texts importing pprint\n",
        "import pprint\n",
        "#for more granular regex string processing we are going to import glob\n",
        "import glob\n",
        "import re\n",
        "#natural language tool kit \n",
        "\n",
        "#IT has ability to produce token given text\n",
        "#It has a pretrained model and has prerecorded lexicons\n",
        "import nltk\n",
        "\n",
        "\n",
        "#word2vec: created by Google to train words as huge collection of vectors\n",
        "\n",
        "#Using sklearn.manifold for dimensionality reduction\n",
        "import sklearn.manifold\n",
        "\n",
        "import numpy as  np\n",
        "import matplotlib.pyplot as plt\n",
        "#importing pandas framework\n",
        "\n",
        "\n",
        "import pandas as pd\n",
        "#visualising the dataset using seaborn\n",
        "\n",
        "\n",
        "\n",
        "import gensim.models.word2vec as w2v\n"
      ],
      "execution_count": 2,
      "outputs": [
        {
          "output_type": "stream",
          "text": [
            "Collecting gensim\n",
            "  Downloading gensim-3.2.0-cp27-cp27mu-manylinux1_x86_64.whl (15.9MB)\n",
            "\u001b[K    100% |████████████████████████████████| 15.9MB 75kB/s \n",
            "\u001b[?25hCollecting smart-open>=1.2.1 (from gensim)\n",
            "  Using cached smart_open-1.5.6.tar.gz\n",
            "Requirement already satisfied: six>=1.5.0 in /usr/local/lib/python2.7/dist-packages (from gensim)\n",
            "Requirement already satisfied: scipy>=0.18.1 in /usr/local/lib/python2.7/dist-packages (from gensim)\n",
            "Requirement already satisfied: numpy>=1.11.3 in /usr/local/lib/python2.7/dist-packages (from gensim)\n",
            "Collecting boto3 (from smart-open>=1.2.1->gensim)\n",
            "  Using cached boto3-1.5.22-py2.py3-none-any.whl\n",
            "Collecting boto>=2.32 (from smart-open>=1.2.1->gensim)\n",
            "  Using cached boto-2.48.0-py2.py3-none-any.whl\n",
            "Collecting bz2file (from smart-open>=1.2.1->gensim)\n",
            "  Using cached bz2file-0.98.tar.gz\n",
            "Requirement already satisfied: requests in /usr/local/lib/python2.7/dist-packages (from smart-open>=1.2.1->gensim)\n",
            "Collecting jmespath<1.0.0,>=0.7.1 (from boto3->smart-open>=1.2.1->gensim)\n",
            "  Using cached jmespath-0.9.3-py2.py3-none-any.whl\n",
            "Collecting s3transfer<0.2.0,>=0.1.10 (from boto3->smart-open>=1.2.1->gensim)\n",
            "  Using cached s3transfer-0.1.12-py2.py3-none-any.whl\n",
            "Collecting botocore<1.9.0,>=1.8.36 (from boto3->smart-open>=1.2.1->gensim)\n",
            "  Using cached botocore-1.8.36-py2.py3-none-any.whl\n",
            "Requirement already satisfied: idna<2.7,>=2.5 in /usr/local/lib/python2.7/dist-packages (from requests->smart-open>=1.2.1->gensim)\n",
            "Requirement already satisfied: urllib3<1.23,>=1.21.1 in /usr/local/lib/python2.7/dist-packages (from requests->smart-open>=1.2.1->gensim)\n",
            "Requirement already satisfied: certifi>=2017.4.17 in /usr/local/lib/python2.7/dist-packages (from requests->smart-open>=1.2.1->gensim)\n",
            "Requirement already satisfied: chardet<3.1.0,>=3.0.2 in /usr/local/lib/python2.7/dist-packages (from requests->smart-open>=1.2.1->gensim)\n",
            "Requirement already satisfied: futures<4.0.0,>=2.2.0; python_version == \"2.6\" or python_version == \"2.7\" in /usr/local/lib/python2.7/dist-packages (from s3transfer<0.2.0,>=0.1.10->boto3->smart-open>=1.2.1->gensim)\n",
            "Collecting docutils>=0.10 (from botocore<1.9.0,>=1.8.36->boto3->smart-open>=1.2.1->gensim)\n",
            "  Downloading docutils-0.14-py2-none-any.whl (543kB)\n",
            "\u001b[K    100% |████████████████████████████████| 552kB 1.9MB/s \n",
            "\u001b[?25hRequirement already satisfied: python-dateutil<3.0.0,>=2.1 in /usr/local/lib/python2.7/dist-packages (from botocore<1.9.0,>=1.8.36->boto3->smart-open>=1.2.1->gensim)\n",
            "Building wheels for collected packages: smart-open, bz2file\n",
            "  Running setup.py bdist_wheel for smart-open ... \u001b[?25l-\b \bdone\n",
            "\u001b[?25h  Stored in directory: /content/.cache/pip/wheels/36/48/35/97efc2bd1b233627131c9a936c9de23681846db707b907d353\n",
            "  Running setup.py bdist_wheel for bz2file ... \u001b[?25l-\b \bdone\n",
            "\u001b[?25h  Stored in directory: /content/.cache/pip/wheels/31/9c/20/996d65ca104cbca940b1b053299b68459391c01c774d073126\n",
            "Successfully built smart-open bz2file\n",
            "Installing collected packages: jmespath, docutils, botocore, s3transfer, boto3, boto, bz2file, smart-open, gensim\n",
            "Successfully installed boto-2.48.0 boto3-1.5.22 botocore-1.8.36 bz2file-0.98 docutils-0.14 gensim-3.2.0 jmespath-0.9.3 s3transfer-0.1.12 smart-open-1.5.6\n"
          ],
          "name": "stdout"
        }
      ]
    },
    {
      "metadata": {
        "id": "8VjsbpYmHJpa",
        "colab_type": "code",
        "colab": {
          "autoexec": {
            "startup": false,
            "wait_interval": 0
          },
          "output_extras": [
            {
              "item_id": 1
            },
            {
              "item_id": 2
            }
          ],
          "base_uri": "https://localhost:8080/",
          "height": 105
        },
        "outputId": "f2b3483a-b09e-4823-f3fb-30ef131e0369",
        "executionInfo": {
          "status": "ok",
          "timestamp": 1517053457139,
          "user_tz": -330,
          "elapsed": 1096,
          "user": {
            "displayName": "Suraj",
            "photoUrl": "//lh5.googleusercontent.com/-n0XOqm4pzzY/AAAAAAAAAAI/AAAAAAAAGMk/QR2xoSjmXbk/s50-c-k-no/photo.jpg",
            "userId": "108764986987181223074"
          }
        }
      },
      "cell_type": "code",
      "source": [
        "#Cleaning the data\n",
        "#Step 1: Preprocessing\n",
        "\n",
        "#punkt and stopwords are two funcitons on nltk\n",
        "#punkt is a tokeniser\n",
        "#punkt takes a sentence and produces the keywords as token\n",
        "nltk.download('punkt')\n",
        "\n",
        "#stopwords removes and, like, the, of, at\n",
        "nltk.download('stopwords')\n",
        "\n",
        "\n",
        "\n"
      ],
      "execution_count": 3,
      "outputs": [
        {
          "output_type": "stream",
          "text": [
            "[nltk_data] Downloading package punkt to /content/nltk_data...\n",
            "[nltk_data]   Package punkt is already up-to-date!\n",
            "[nltk_data] Downloading package stopwords to /content/nltk_data...\n",
            "[nltk_data]   Package stopwords is already up-to-date!\n"
          ],
          "name": "stdout"
        },
        {
          "output_type": "execute_result",
          "data": {
            "text/plain": [
              "True"
            ]
          },
          "metadata": {
            "tags": []
          },
          "execution_count": 3
        }
      ]
    },
    {
      "metadata": {
        "id": "QYt5jtgfITXm",
        "colab_type": "code",
        "colab": {
          "autoexec": {
            "startup": false,
            "wait_interval": 0
          },
          "output_extras": [
            {
              "item_id": 1
            }
          ],
          "base_uri": "https://localhost:8080/",
          "height": 34
        },
        "outputId": "be302eec-54bd-425a-c0d0-9bf6e6e47ee3",
        "executionInfo": {
          "status": "ok",
          "timestamp": 1517053458369,
          "user_tz": -330,
          "elapsed": 997,
          "user": {
            "displayName": "Suraj",
            "photoUrl": "//lh5.googleusercontent.com/-n0XOqm4pzzY/AAAAAAAAAAI/AAAAAAAAGMk/QR2xoSjmXbk/s50-c-k-no/photo.jpg",
            "userId": "108764986987181223074"
          }
        }
      },
      "cell_type": "code",
      "source": [
        "#Step 2\n",
        "#parsing the good files\n",
        "book_filenames = sorted(glob.glob('*.txt'))\n",
        "book_filenames"
      ],
      "execution_count": 4,
      "outputs": [
        {
          "output_type": "execute_result",
          "data": {
            "text/plain": [
              "['got1.txt', 'got2.txt', 'got3.txt', 'got4.txt', 'got5.txt']"
            ]
          },
          "metadata": {
            "tags": []
          },
          "execution_count": 4
        }
      ]
    },
    {
      "metadata": {
        "id": "PDVFpAtBItHn",
        "colab_type": "code",
        "colab": {
          "autoexec": {
            "startup": false,
            "wait_interval": 0
          },
          "output_extras": [
            {
              "item_id": 1
            }
          ],
          "base_uri": "https://localhost:8080/",
          "height": 194
        },
        "outputId": "6d70f62e-0e72-40ce-90c3-064cc9f64d51",
        "executionInfo": {
          "status": "ok",
          "timestamp": 1517053459907,
          "user_tz": -330,
          "elapsed": 1218,
          "user": {
            "displayName": "Suraj",
            "photoUrl": "//lh5.googleusercontent.com/-n0XOqm4pzzY/AAAAAAAAAAI/AAAAAAAAGMk/QR2xoSjmXbk/s50-c-k-no/photo.jpg",
            "userId": "108764986987181223074"
          }
        }
      },
      "cell_type": "code",
      "source": [
        "#Combining all these books into one string\n",
        "#initialising a raw corpus in unicode format for this\n",
        "corpus_raw = u\"\"\n",
        "for book_filename in book_filenames:\n",
        "    print(\"Reading '{0}'.....\".format(book_filename))\n",
        "    with codecs.open(book_filename, \"r\",\"utf-8\") as book_file:\n",
        "         corpus_raw += book_file.read()\n",
        "    print(\"Corpus  is {0} characters long\".format(len(corpus_raw)))\n"
      ],
      "execution_count": 5,
      "outputs": [
        {
          "output_type": "stream",
          "text": [
            "Reading 'got1.txt'.....\n",
            "Corpus  is 1770659 characters long\n",
            "Reading 'got2.txt'.....\n",
            "Corpus  is 4071041 characters long\n",
            "Reading 'got3.txt'.....\n",
            "Corpus  is 6391405 characters long\n",
            "Reading 'got4.txt'.....\n",
            "Corpus  is 8107945 characters long\n",
            "Reading 'got5.txt'.....\n",
            "Corpus  is 9719485 characters long\n"
          ],
          "name": "stdout"
        }
      ]
    },
    {
      "metadata": {
        "id": "abqGfFolK100",
        "colab_type": "code",
        "colab": {
          "autoexec": {
            "startup": false,
            "wait_interval": 0
          }
        }
      },
      "cell_type": "code",
      "source": [
        "#Splitting the corpus into sentences for further steps\n",
        "#using nltk's punkt\n",
        "#right now we want sentences as tokens from our corpus\n",
        "tokenizer = nltk.data.load('tokenizers/punkt/english.pickle')\n",
        "\n",
        "#Applying the model to our fetched corpus\n",
        "raw_sentences = tokenizer.tokenize(corpus_raw)\n",
        "\n",
        "\n",
        "\n"
      ],
      "execution_count": 0,
      "outputs": []
    },
    {
      "metadata": {
        "id": "AYb6PyhsKkcW",
        "colab_type": "code",
        "colab": {
          "autoexec": {
            "startup": false,
            "wait_interval": 0
          }
        }
      },
      "cell_type": "code",
      "source": [
        "#defining the function which converts sentences to wordlist\n",
        "#remove unneccesary words without hyphens\n",
        "#wordlist is \n",
        "def sentence_to_wordlist(raw):\n",
        "    clean = re.sub(\"[^a-zA-Z]\",\" \", raw)\n",
        "    words = clean.split()\n",
        "    return words"
      ],
      "execution_count": 0,
      "outputs": []
    },
    {
      "metadata": {
        "id": "I_M2eJLpM0E8",
        "colab_type": "code",
        "colab": {
          "autoexec": {
            "startup": false,
            "wait_interval": 0
          }
        }
      },
      "cell_type": "code",
      "source": [
        "#once we have the list of words from above function we will take each of the words and tokenise it\n",
        "#initialise a empty sentence list\n",
        "\n",
        "sentences =[]\n",
        "for raw_sentence in raw_sentences:\n",
        "    if len(raw_sentence) > 0:\n",
        "        sentences.append(sentence_to_wordlist(raw_sentence))"
      ],
      "execution_count": 0,
      "outputs": []
    },
    {
      "metadata": {
        "id": "8qSfIfpHNVgF",
        "colab_type": "code",
        "colab": {
          "autoexec": {
            "startup": false,
            "wait_interval": 0
          },
          "output_extras": [
            {
              "item_id": 1
            }
          ],
          "base_uri": "https://localhost:8080/",
          "height": 52
        },
        "outputId": "7c41715b-0cce-4a17-c816-39734334e714",
        "executionInfo": {
          "status": "ok",
          "timestamp": 1517053471297,
          "user_tz": -330,
          "elapsed": 1099,
          "user": {
            "displayName": "Suraj",
            "photoUrl": "//lh5.googleusercontent.com/-n0XOqm4pzzY/AAAAAAAAAAI/AAAAAAAAGMk/QR2xoSjmXbk/s50-c-k-no/photo.jpg",
            "userId": "108764986987181223074"
          }
        }
      },
      "cell_type": "code",
      "source": [
        "#Illustration with an example\n",
        "#print an example\n",
        "print(raw_sentences[4])\n",
        "print(sentence_to_wordlist(raw_sentences[4]))"
      ],
      "execution_count": 9,
      "outputs": [
        {
          "output_type": "stream",
          "text": [
            "Maps by James Sinclair.\n",
            "[u'Maps', u'by', u'James', u'Sinclair']\n"
          ],
          "name": "stdout"
        }
      ]
    },
    {
      "metadata": {
        "id": "sTvp5K9dNnlE",
        "colab_type": "code",
        "colab": {
          "autoexec": {
            "startup": false,
            "wait_interval": 0
          },
          "output_extras": [
            {
              "item_id": 1
            }
          ],
          "base_uri": "https://localhost:8080/",
          "height": 34
        },
        "outputId": "ba818678-5e46-46e0-d211-11a689ad8fc8",
        "executionInfo": {
          "status": "ok",
          "timestamp": 1517053472700,
          "user_tz": -330,
          "elapsed": 1188,
          "user": {
            "displayName": "Suraj",
            "photoUrl": "//lh5.googleusercontent.com/-n0XOqm4pzzY/AAAAAAAAAAI/AAAAAAAAGMk/QR2xoSjmXbk/s50-c-k-no/photo.jpg",
            "userId": "108764986987181223074"
          }
        }
      },
      "cell_type": "code",
      "source": [
        "#Now getting total no of tokens in the corpus\n",
        "\n",
        "token_count =- sum([len(sentence) for sentence in sentences])\n",
        "print(\"The entire corpus contains {0:}  tokens\".format(abs(token_count)))"
      ],
      "execution_count": 10,
      "outputs": [
        {
          "output_type": "stream",
          "text": [
            "The entire corpus contains 1818103  tokens\n"
          ],
          "name": "stdout"
        }
      ]
    },
    {
      "metadata": {
        "id": "Ch_e9192Neno",
        "colab_type": "code",
        "colab": {
          "autoexec": {
            "startup": false,
            "wait_interval": 0
          }
        }
      },
      "cell_type": "code",
      "source": [
        "#Training a Word2Vec\n",
        "#once we have the vectors it can be used for distance, similarity and ranking\n",
        "#step 2 build our model, another one is Glove\n",
        "#define hyperparameters\n",
        "\n",
        "#num_features is the dimensionality of word vectors\n",
        "#the more is the dimension more is the computation but it will be more generalised and accurate\n",
        "num_features = 300\n",
        "\n",
        "\n",
        "#A vector is a type of tensor in tensorflow\n",
        "# Minimum word count threshold.\n",
        "min_word_count = 3\n",
        "\n",
        "# Number of threads to run in parallel.\n",
        "num_workers = multiprocessing.cpu_count()\n",
        "\n",
        "# Context window length, it is like looking at block of 7 words at an instance.\n",
        "context_size = 7\n",
        "\n",
        "\n",
        "# Downsample setting for frequent words.\n",
        "#as per lit: the more frequent the word is the less we need to create its vector as it already has that\n",
        "#It is taken to be between 0 and 1e-5\n",
        "downsampling = 1e-3\n",
        "\n",
        "# Seed for the random number generation\n",
        "seed = 1"
      ],
      "execution_count": 0,
      "outputs": []
    },
    {
      "metadata": {
        "id": "eNArAvzbPMei",
        "colab_type": "code",
        "colab": {
          "autoexec": {
            "startup": false,
            "wait_interval": 0
          }
        }
      },
      "cell_type": "code",
      "source": [
        "#word2vec model imported from gensim library\n",
        "\n",
        "Suraj_word2vec = w2v.Word2Vec(\n",
        "    sg=1,\n",
        "    seed=seed,\n",
        "    workers=num_workers,\n",
        "    size=num_features,\n",
        "    min_count=min_word_count,\n",
        "    window=context_size,\n",
        "    sample=downsampling,\n",
        "    iter = 10\n",
        ")"
      ],
      "execution_count": 0,
      "outputs": []
    },
    {
      "metadata": {
        "id": "TwvmgSEITX_Z",
        "colab_type": "code",
        "colab": {
          "autoexec": {
            "startup": false,
            "wait_interval": 0
          }
        }
      },
      "cell_type": "code",
      "source": [
        "Suraj_word2vec.build_vocab(sentences)\n",
        "#print(\"Word2Vec vocabulary length:\", len(Suraj_word2vec.vocab))"
      ],
      "execution_count": 0,
      "outputs": []
    },
    {
      "metadata": {
        "id": "0qaiRK06ThPN",
        "colab_type": "code",
        "colab": {
          "autoexec": {
            "startup": false,
            "wait_interval": 0
          },
          "output_extras": [
            {
              "item_id": 1
            }
          ],
          "base_uri": "https://localhost:8080/",
          "height": 34
        },
        "outputId": "547b8756-8d7e-435a-d6b5-6aa586671d99",
        "executionInfo": {
          "status": "ok",
          "timestamp": 1517055778818,
          "user_tz": -330,
          "elapsed": 135732,
          "user": {
            "displayName": "Suraj",
            "photoUrl": "//lh5.googleusercontent.com/-n0XOqm4pzzY/AAAAAAAAAAI/AAAAAAAAGMk/QR2xoSjmXbk/s50-c-k-no/photo.jpg",
            "userId": "108764986987181223074"
          }
        }
      },
      "cell_type": "code",
      "source": [
        "#train model on sentneces\n",
        "Suraj_word2vec.train(sentences,total_examples=Suraj_word2vec.corpus_count,epochs=Suraj_word2vec.iter, report_delay=1.0, compute_loss=True)\n",
        "# getting the training loss value\n"
      ],
      "execution_count": 25,
      "outputs": [
        {
          "output_type": "execute_result",
          "data": {
            "text/plain": [
              "14042762"
            ]
          },
          "metadata": {
            "tags": []
          },
          "execution_count": 25
        }
      ]
    },
    {
      "metadata": {
        "id": "juD2ryt1TjkQ",
        "colab_type": "code",
        "colab": {
          "autoexec": {
            "startup": false,
            "wait_interval": 0
          }
        }
      },
      "cell_type": "code",
      "source": [
        "#save model\n",
        "if not os.path.exists(\"trained\"):\n",
        "    os.makedirs(\"trained\")"
      ],
      "execution_count": 0,
      "outputs": []
    },
    {
      "metadata": {
        "id": "WQP_FFf6TmCO",
        "colab_type": "code",
        "colab": {
          "autoexec": {
            "startup": false,
            "wait_interval": 0
          }
        }
      },
      "cell_type": "code",
      "source": [
        "Suraj_word2vec.save(os.path.join(\"trained\", \"thrones2vec.w2v\"))"
      ],
      "execution_count": 0,
      "outputs": []
    },
    {
      "metadata": {
        "id": "JplZ5xRqTmyY",
        "colab_type": "code",
        "colab": {
          "autoexec": {
            "startup": false,
            "wait_interval": 0
          }
        }
      },
      "cell_type": "code",
      "source": [
        "#load model\n",
        "Suraj_word2vec = w2v.Word2Vec.load(os.path.join(\"trained\", \"thrones2vec.w2v\"))"
      ],
      "execution_count": 0,
      "outputs": []
    },
    {
      "metadata": {
        "id": "pVQYHuXgToKh",
        "colab_type": "code",
        "colab": {
          "autoexec": {
            "startup": false,
            "wait_interval": 0
          }
        }
      },
      "cell_type": "code",
      "source": [
        "#squash dimensionality to 2\n",
        "#https://www.oreilly.com/learning/an-illustrated-introduction-to-the-t-sne-algorithm\n",
        "tsne = sklearn.manifold.TSNE(n_components=2, random_state=0)"
      ],
      "execution_count": 0,
      "outputs": []
    },
    {
      "metadata": {
        "id": "eQkOSji4Tsyy",
        "colab_type": "code",
        "colab": {
          "autoexec": {
            "startup": false,
            "wait_interval": 0
          }
        }
      },
      "cell_type": "code",
      "source": [
        "#put it all into a giant matrix\n",
        "#all_word_vectors_matrix = Suraj_word2vec.w2v.syn0"
      ],
      "execution_count": 0,
      "outputs": []
    },
    {
      "metadata": {
        "id": "CPRoro2LTutp",
        "colab_type": "code",
        "colab": {
          "autoexec": {
            "startup": false,
            "wait_interval": 0
          }
        }
      },
      "cell_type": "code",
      "source": [
        ""
      ],
      "execution_count": 0,
      "outputs": []
    },
    {
      "metadata": {
        "id": "UcHgk1-uTw-6",
        "colab_type": "code",
        "colab": {
          "autoexec": {
            "startup": false,
            "wait_interval": 0
          },
          "output_extras": [
            {
              "item_id": 1
            }
          ],
          "base_uri": "https://localhost:8080/",
          "height": 150
        },
        "outputId": "fa11b4d0-86a2-46a5-ac00-5fa274bcf569",
        "executionInfo": {
          "status": "error",
          "timestamp": 1517056383882,
          "user_tz": -330,
          "elapsed": 1256,
          "user": {
            "displayName": "Suraj",
            "photoUrl": "//lh5.googleusercontent.com/-n0XOqm4pzzY/AAAAAAAAAAI/AAAAAAAAGMk/QR2xoSjmXbk/s50-c-k-no/photo.jpg",
            "userId": "108764986987181223074"
          }
        }
      },
      "cell_type": "code",
      "source": [
        "\"\"\"\"#plot point in 2d space\n",
        "points = pd.DataFrame(\n",
        "    [\n",
        "        (word, coords[0], coords[1])\n",
        "        for word, coords in [\n",
        "            (word, all_word_vectors_matrix_2d[Suraj_word2vec.vocab[word].index])\n",
        "            for word in Suraj_word2vec.vocab\n",
        "        ]\n",
        "    ],\n",
        "    columns=[\"word\", \"x\", \"y\"]\n",
        ")\n",
        "\"\"\"\""
      ],
      "execution_count": 48,
      "outputs": [
        {
          "output_type": "error",
          "ename": "SyntaxError",
          "evalue": "ignored",
          "traceback": [
            "\u001b[0;36m  File \u001b[0;32m\"<ipython-input-48-e861269478e3>\"\u001b[0;36m, line \u001b[0;32m12\u001b[0m\n\u001b[0;31m    \"\"\"\"\u001b[0m\n\u001b[0m        \n^\u001b[0m\n\u001b[0;31mSyntaxError\u001b[0m\u001b[0;31m:\u001b[0m EOL while scanning string literal\n"
          ]
        }
      ]
    },
    {
      "metadata": {
        "id": "Fd-Wrw4XTyfD",
        "colab_type": "code",
        "colab": {
          "autoexec": {
            "startup": false,
            "wait_interval": 0
          }
        }
      },
      "cell_type": "code",
      "source": [
        "\"\"\"\"points.head(10)\n",
        "sns.set_context(\"poster\")\n",
        "points.plot.scatter(\"x\", \"y\", s=10, figsize=(20, 12))\"\"\"\""
      ],
      "execution_count": 0,
      "outputs": []
    },
    {
      "metadata": {
        "id": "KKxa2IlJT4bK",
        "colab_type": "code",
        "colab": {
          "autoexec": {
            "startup": false,
            "wait_interval": 0
          },
          "output_extras": [
            {
              "item_id": 1
            }
          ],
          "base_uri": "https://localhost:8080/",
          "height": 54
        },
        "outputId": "75273a1a-0e44-4aeb-eb83-f99012784175",
        "executionInfo": {
          "status": "ok",
          "timestamp": 1517056334354,
          "user_tz": -330,
          "elapsed": 1366,
          "user": {
            "displayName": "Suraj",
            "photoUrl": "//lh5.googleusercontent.com/-n0XOqm4pzzY/AAAAAAAAAAI/AAAAAAAAGMk/QR2xoSjmXbk/s50-c-k-no/photo.jpg",
            "userId": "108764986987181223074"
          }
        }
      },
      "cell_type": "code",
      "source": [
        "\"\"\"\"def plot_region(x_bounds, y_bounds):\n",
        "    slice = points[\n",
        "        (x_bounds[0] <= points.x) &\n",
        "        (points.x <= x_bounds[1]) & \n",
        "        (y_bounds[0] <= points.y) &\n",
        "        (points.y <= y_bounds[1])\n",
        "    ]\n",
        "    \n",
        "    ax = slice.plot.scatter(\"x\", \"y\", s=35, figsize=(10, 8))\n",
        "    for i, point in slice.iterrows():\n",
        "        ax.text(point.x + 0.005, point.y + 0.005, point.word, fontsize=11)\"\"\""
      ],
      "execution_count": 46,
      "outputs": [
        {
          "output_type": "execute_result",
          "data": {
            "text/plain": [
              "'\"def plot_region(x_bounds, y_bounds):\\n    slice = points[\\n        (x_bounds[0] <= points.x) &\\n        (points.x <= x_bounds[1]) & \\n        (y_bounds[0] <= points.y) &\\n        (points.y <= y_bounds[1])\\n    ]\\n    \\n    ax = slice.plot.scatter(\"x\", \"y\", s=35, figsize=(10, 8))\\n    for i, point in slice.iterrows():\\n        ax.text(point.x + 0.005, point.y + 0.005, point.word, fontsize=11)'"
            ]
          },
          "metadata": {
            "tags": []
          },
          "execution_count": 46
        }
      ]
    },
    {
      "metadata": {
        "id": "k2Gv8CDfT6Qj",
        "colab_type": "code",
        "colab": {
          "autoexec": {
            "startup": false,
            "wait_interval": 0
          },
          "output_extras": [
            {
              "item_id": 1
            },
            {
              "item_id": 2
            }
          ],
          "base_uri": "https://localhost:8080/",
          "height": 250
        },
        "outputId": "1ed78c18-ccef-4ded-fd68-205f63bd5247",
        "executionInfo": {
          "status": "ok",
          "timestamp": 1517056249212,
          "user_tz": -330,
          "elapsed": 1208,
          "user": {
            "displayName": "Suraj",
            "photoUrl": "//lh5.googleusercontent.com/-n0XOqm4pzzY/AAAAAAAAAAI/AAAAAAAAGMk/QR2xoSjmXbk/s50-c-k-no/photo.jpg",
            "userId": "108764986987181223074"
          }
        }
      },
      "cell_type": "code",
      "source": [
        "#plot_region(x_bounds=(4.0, 4.2), y_bounds=(-0.5, -0.1))\n",
        "#plot_region(x_bounds=(0, 1), y_bounds=(4, 4.5))\n",
        "Suraj_word2vec.most_similar(\"Stark\")\n"
      ],
      "execution_count": 40,
      "outputs": [
        {
          "output_type": "stream",
          "text": [
            "/usr/local/lib/python2.7/dist-packages/ipykernel_launcher.py:1: DeprecationWarning: Call to deprecated `most_similar` (Method will be removed in 4.0.0, use self.wv.most_similar() instead).\n",
            "  \"\"\"Entry point for launching an IPython kernel.\n"
          ],
          "name": "stderr"
        },
        {
          "output_type": "execute_result",
          "data": {
            "text/plain": [
              "[(u'Eddard', 0.6202936768531799),\n",
              " (u'executed', 0.4770504832267761),\n",
              " (u'Snowbeard', 0.4548262357711792),\n",
              " (u'Edrick', 0.4435146749019623),\n",
              " (u'SHIREI', 0.4421089291572571),\n",
              " (u'Winterfell', 0.4412658214569092),\n",
              " (u'fishwife', 0.43919655680656433),\n",
              " (u'absently', 0.4310927391052246),\n",
              " (u'LOTHOR', 0.4267766773700714),\n",
              " (u'Underfoot', 0.424993097782135)]"
            ]
          },
          "metadata": {
            "tags": []
          },
          "execution_count": 40
        }
      ]
    },
    {
      "metadata": {
        "id": "VcBAUHITUBPM",
        "colab_type": "code",
        "colab": {
          "autoexec": {
            "startup": false,
            "wait_interval": 0
          },
          "output_extras": [
            {
              "item_id": 1
            },
            {
              "item_id": 2
            }
          ],
          "base_uri": "https://localhost:8080/",
          "height": 250
        },
        "outputId": "8923a195-d169-4b91-bd85-d24dab20eced",
        "executionInfo": {
          "status": "ok",
          "timestamp": 1517056262355,
          "user_tz": -330,
          "elapsed": 1585,
          "user": {
            "displayName": "Suraj",
            "photoUrl": "//lh5.googleusercontent.com/-n0XOqm4pzzY/AAAAAAAAAAI/AAAAAAAAGMk/QR2xoSjmXbk/s50-c-k-no/photo.jpg",
            "userId": "108764986987181223074"
          }
        }
      },
      "cell_type": "code",
      "source": [
        "Suraj_word2vec.most_similar(\"Aerys\")"
      ],
      "execution_count": 41,
      "outputs": [
        {
          "output_type": "stream",
          "text": [
            "/usr/local/lib/python2.7/dist-packages/ipykernel_launcher.py:1: DeprecationWarning: Call to deprecated `most_similar` (Method will be removed in 4.0.0, use self.wv.most_similar() instead).\n",
            "  \"\"\"Entry point for launching an IPython kernel.\n"
          ],
          "name": "stderr"
        },
        {
          "output_type": "execute_result",
          "data": {
            "text/plain": [
              "[(u'II', 0.5767824649810791),\n",
              " (u'Jaehaerys', 0.5020555257797241),\n",
              " (u'Defiance', 0.47191619873046875),\n",
              " (u'Conciliator', 0.46519413590431213),\n",
              " (u'Mad', 0.4619624614715576),\n",
              " (u'Maekar', 0.4515315294265747),\n",
              " (u'Robert', 0.44786351919174194),\n",
              " (u'V', 0.44561100006103516),\n",
              " (u'Arrogant', 0.4392484426498413),\n",
              " (u'Beggar', 0.43634605407714844)]"
            ]
          },
          "metadata": {
            "tags": []
          },
          "execution_count": 41
        }
      ]
    },
    {
      "metadata": {
        "id": "M3pgVaxIUCRW",
        "colab_type": "code",
        "colab": {
          "autoexec": {
            "startup": false,
            "wait_interval": 0
          },
          "output_extras": [
            {
              "item_id": 1
            },
            {
              "item_id": 2
            }
          ],
          "base_uri": "https://localhost:8080/",
          "height": 250
        },
        "outputId": "93b95cc2-8d9f-40f6-a2c9-ab3c4fd5a3ce",
        "executionInfo": {
          "status": "ok",
          "timestamp": 1517056264893,
          "user_tz": -330,
          "elapsed": 1347,
          "user": {
            "displayName": "Suraj",
            "photoUrl": "//lh5.googleusercontent.com/-n0XOqm4pzzY/AAAAAAAAAAI/AAAAAAAAGMk/QR2xoSjmXbk/s50-c-k-no/photo.jpg",
            "userId": "108764986987181223074"
          }
        }
      },
      "cell_type": "code",
      "source": [
        "Suraj_word2vec.most_similar(\"Aerys\")"
      ],
      "execution_count": 42,
      "outputs": [
        {
          "output_type": "stream",
          "text": [
            "/usr/local/lib/python2.7/dist-packages/ipykernel_launcher.py:1: DeprecationWarning: Call to deprecated `most_similar` (Method will be removed in 4.0.0, use self.wv.most_similar() instead).\n",
            "  \"\"\"Entry point for launching an IPython kernel.\n"
          ],
          "name": "stderr"
        },
        {
          "output_type": "execute_result",
          "data": {
            "text/plain": [
              "[(u'II', 0.5767824649810791),\n",
              " (u'Jaehaerys', 0.5020555257797241),\n",
              " (u'Defiance', 0.47191619873046875),\n",
              " (u'Conciliator', 0.46519413590431213),\n",
              " (u'Mad', 0.4619624614715576),\n",
              " (u'Maekar', 0.4515315294265747),\n",
              " (u'Robert', 0.44786351919174194),\n",
              " (u'V', 0.44561100006103516),\n",
              " (u'Arrogant', 0.4392484426498413),\n",
              " (u'Beggar', 0.43634605407714844)]"
            ]
          },
          "metadata": {
            "tags": []
          },
          "execution_count": 42
        }
      ]
    },
    {
      "metadata": {
        "id": "dIAXN-E6UEMa",
        "colab_type": "code",
        "colab": {
          "autoexec": {
            "startup": false,
            "wait_interval": 0
          }
        }
      },
      "cell_type": "code",
      "source": [
        "#distance, similarity, and ranking\n",
        "def nearest_similarity_cosmul(start1, end1, end2):\n",
        "    similarities = Suraj_word2vec.most_similar_cosmul(\n",
        "        positive=[end2, start1],\n",
        "        negative=[end1]\n",
        "    )\n",
        "    start2 = similarities[0][0]\n",
        "    print(\"{start1} is related to {end1}, as {start2} is related to {end2}\".format(**locals()))\n",
        "    return start2"
      ],
      "execution_count": 0,
      "outputs": []
    },
    {
      "metadata": {
        "id": "B1UDyNZ5UGcH",
        "colab_type": "code",
        "colab": {
          "autoexec": {
            "startup": false,
            "wait_interval": 0
          },
          "output_extras": [
            {
              "item_id": 1
            },
            {
              "item_id": 2
            },
            {
              "item_id": 3
            }
          ],
          "base_uri": "https://localhost:8080/",
          "height": 143
        },
        "outputId": "d419af43-e425-4799-800c-1f0f4b9539ba",
        "executionInfo": {
          "status": "ok",
          "timestamp": 1517056387465,
          "user_tz": -330,
          "elapsed": 1120,
          "user": {
            "displayName": "Suraj",
            "photoUrl": "//lh5.googleusercontent.com/-n0XOqm4pzzY/AAAAAAAAAAI/AAAAAAAAGMk/QR2xoSjmXbk/s50-c-k-no/photo.jpg",
            "userId": "108764986987181223074"
          }
        }
      },
      "cell_type": "code",
      "source": [
        "nearest_similarity_cosmul(\"Stark\", \"Winterfell\", \"Riverrun\")\n",
        "nearest_similarity_cosmul(\"Jaime\", \"sword\", \"wine\")\n",
        "nearest_similarity_cosmul(\"Arya\", \"Nymeria\", \"dragons\")"
      ],
      "execution_count": 50,
      "outputs": [
        {
          "output_type": "stream",
          "text": [
            "Stark is related to Winterfell, as Tully is related to Riverrun\n",
            "Jaime is related to sword, as strongwine is related to wine\n",
            "Arya is related to Nymeria, as wyrms is related to dragons\n"
          ],
          "name": "stdout"
        },
        {
          "output_type": "stream",
          "text": [
            "/usr/local/lib/python2.7/dist-packages/ipykernel_launcher.py:4: DeprecationWarning: Call to deprecated `most_similar_cosmul` (Method will be removed in 4.0.0, use self.wv.most_similar_cosmul() instead).\n",
            "  after removing the cwd from sys.path.\n"
          ],
          "name": "stderr"
        },
        {
          "output_type": "execute_result",
          "data": {
            "text/plain": [
              "u'wyrms'"
            ]
          },
          "metadata": {
            "tags": []
          },
          "execution_count": 50
        }
      ]
    },
    {
      "metadata": {
        "id": "Ye2EJoX3VBnr",
        "colab_type": "code",
        "colab": {
          "autoexec": {
            "startup": false,
            "wait_interval": 0
          }
        }
      },
      "cell_type": "code",
      "source": [
        ""
      ],
      "execution_count": 0,
      "outputs": []
    }
  ]
}